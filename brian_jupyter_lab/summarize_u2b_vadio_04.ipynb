{
 "cells": [
  {
   "cell_type": "code",
   "execution_count": 2,
   "metadata": {},
   "outputs": [
    {
     "name": "stdout",
     "output_type": "stream",
     "text": [
      "Collecting youtube_transcript_api\n",
      "  Downloading youtube_transcript_api-0.6.1-py3-none-any.whl (24 kB)\n",
      "Requirement already satisfied: requests in c:\\users\\hh\\appdata\\local\\programs\\python\\python311\\lib\\site-packages (from youtube_transcript_api) (2.31.0)\n",
      "Requirement already satisfied: charset-normalizer<4,>=2 in c:\\users\\hh\\appdata\\local\\programs\\python\\python311\\lib\\site-packages (from requests->youtube_transcript_api) (3.2.0)\n",
      "Requirement already satisfied: idna<4,>=2.5 in c:\\users\\hh\\appdata\\local\\programs\\python\\python311\\lib\\site-packages (from requests->youtube_transcript_api) (3.4)\n",
      "Requirement already satisfied: urllib3<3,>=1.21.1 in c:\\users\\hh\\appdata\\local\\programs\\python\\python311\\lib\\site-packages (from requests->youtube_transcript_api) (1.26.16)\n",
      "Requirement already satisfied: certifi>=2017.4.17 in c:\\users\\hh\\appdata\\local\\programs\\python\\python311\\lib\\site-packages (from requests->youtube_transcript_api) (2023.7.22)\n",
      "Installing collected packages: youtube_transcript_api\n",
      "Successfully installed youtube_transcript_api-0.6.1\n",
      "Note: you may need to restart the kernel to use updated packages.\n"
     ]
    },
    {
     "name": "stderr",
     "output_type": "stream",
     "text": [
      "\n",
      "[notice] A new release of pip is available: 23.1.2 -> 23.2.1\n",
      "[notice] To update, run: python.exe -m pip install --upgrade pip\n"
     ]
    }
   ],
   "source": [
    "%pip install youtube_transcript_api\n",
    "# openai, langchain, unstructured, tiktoken "
   ]
  },
  {
   "cell_type": "code",
   "execution_count": 1,
   "metadata": {},
   "outputs": [],
   "source": [
    "from youtube_transcript_api import YouTubeTranscriptApi\n",
    "from youtube_transcript_api.formatters import TextFormatter\n",
    " "
   ]
  },
  {
   "cell_type": "code",
   "execution_count": 2,
   "metadata": {},
   "outputs": [
    {
     "ename": "YouTubeRequestFailed",
     "evalue": "\nCould not retrieve a transcript for the video https://www.youtube.com/watch?v=429 Client Error: Too Many Requests for url: https://www.google.com/sorry/index?continue=https://www.youtube.com/watch%3Fv%3DZBU0lbMdvSo&q=EgQtTdHWGP7okqcGIjAz5JEsc6E4G1YceDFsuvigBlqOqdjKvtl_v8HMNabMXQTl8liligofuH8ORZLXALQyAXJaAUM! This is most likely caused by:\n\nRequest to YouTube failed: ZBU0lbMdvSo\n\nIf you are sure that the described cause is not responsible for this error and that a transcript should be retrievable, please create an issue at https://github.com/jdepoix/youtube-transcript-api/issues. Please add which version of youtube_transcript_api you are using and provide the information needed to replicate the error. Also make sure that there are no open issues which already describe your problem!",
     "output_type": "error",
     "traceback": [
      "\u001b[1;31m---------------------------------------------------------------------------\u001b[0m",
      "\u001b[1;31mHTTPError\u001b[0m                                 Traceback (most recent call last)",
      "File \u001b[1;32mc:\\Users\\hh\\AppData\\Local\\Programs\\Python\\Python311\\Lib\\site-packages\\youtube_transcript_api\\_transcripts.py:34\u001b[0m, in \u001b[0;36m_raise_http_errors\u001b[1;34m(response, video_id)\u001b[0m\n\u001b[0;32m     33\u001b[0m \u001b[39mtry\u001b[39;00m:\n\u001b[1;32m---> 34\u001b[0m     response\u001b[39m.\u001b[39;49mraise_for_status()\n\u001b[0;32m     35\u001b[0m     \u001b[39mreturn\u001b[39;00m response\n",
      "File \u001b[1;32mc:\\Users\\hh\\AppData\\Local\\Programs\\Python\\Python311\\Lib\\site-packages\\requests\\models.py:1021\u001b[0m, in \u001b[0;36mResponse.raise_for_status\u001b[1;34m(self)\u001b[0m\n\u001b[0;32m   1020\u001b[0m \u001b[39mif\u001b[39;00m http_error_msg:\n\u001b[1;32m-> 1021\u001b[0m     \u001b[39mraise\u001b[39;00m HTTPError(http_error_msg, response\u001b[39m=\u001b[39m\u001b[39mself\u001b[39m)\n",
      "\u001b[1;31mHTTPError\u001b[0m: 429 Client Error: Too Many Requests for url: https://www.google.com/sorry/index?continue=https://www.youtube.com/watch%3Fv%3DZBU0lbMdvSo&q=EgQtTdHWGP7okqcGIjAz5JEsc6E4G1YceDFsuvigBlqOqdjKvtl_v8HMNabMXQTl8liligofuH8ORZLXALQyAXJaAUM",
      "\nDuring handling of the above exception, another exception occurred:\n",
      "\u001b[1;31mYouTubeRequestFailed\u001b[0m                      Traceback (most recent call last)",
      "Cell \u001b[1;32mIn[2], line 2\u001b[0m\n\u001b[0;32m      1\u001b[0m \u001b[39m# ZBU0lbMdvSo\u001b[39;00m\n\u001b[1;32m----> 2\u001b[0m transcript \u001b[39m=\u001b[39m YouTubeTranscriptApi\u001b[39m.\u001b[39;49mget_transcript(\u001b[39m\"\u001b[39;49m\u001b[39mZBU0lbMdvSo\u001b[39;49m\u001b[39m\"\u001b[39;49m)\n\u001b[0;32m      3\u001b[0m formatter \u001b[39m=\u001b[39m TextFormatter()\n\u001b[0;32m      4\u001b[0m text_formatted \u001b[39m=\u001b[39m formatter\u001b[39m.\u001b[39mformat_transcript(transcript)\n",
      "File \u001b[1;32mc:\\Users\\hh\\AppData\\Local\\Programs\\Python\\Python311\\Lib\\site-packages\\youtube_transcript_api\\_api.py:137\u001b[0m, in \u001b[0;36mYouTubeTranscriptApi.get_transcript\u001b[1;34m(cls, video_id, languages, proxies, cookies, preserve_formatting)\u001b[0m\n\u001b[0;32m    116\u001b[0m \u001b[39m\u001b[39m\u001b[39m\"\"\"\u001b[39;00m\n\u001b[0;32m    117\u001b[0m \u001b[39mRetrieves the transcript for a single video. This is just a shortcut for calling::\u001b[39;00m\n\u001b[0;32m    118\u001b[0m \n\u001b[1;32m   (...)\u001b[0m\n\u001b[0;32m    134\u001b[0m \u001b[39m:rtype [{'text': str, 'start': float, 'end': float}]:\u001b[39;00m\n\u001b[0;32m    135\u001b[0m \u001b[39m\"\"\"\u001b[39;00m\n\u001b[0;32m    136\u001b[0m \u001b[39massert\u001b[39;00m \u001b[39misinstance\u001b[39m(video_id, \u001b[39mstr\u001b[39m), \u001b[39m\"\u001b[39m\u001b[39m`video_id` must be a string\u001b[39m\u001b[39m\"\u001b[39m\n\u001b[1;32m--> 137\u001b[0m \u001b[39mreturn\u001b[39;00m \u001b[39mcls\u001b[39;49m\u001b[39m.\u001b[39;49mlist_transcripts(video_id, proxies, cookies)\u001b[39m.\u001b[39mfind_transcript(languages)\u001b[39m.\u001b[39mfetch(preserve_formatting\u001b[39m=\u001b[39mpreserve_formatting)\n",
      "File \u001b[1;32mc:\\Users\\hh\\AppData\\Local\\Programs\\Python\\Python311\\Lib\\site-packages\\youtube_transcript_api\\_api.py:71\u001b[0m, in \u001b[0;36mYouTubeTranscriptApi.list_transcripts\u001b[1;34m(cls, video_id, proxies, cookies)\u001b[0m\n\u001b[0;32m     69\u001b[0m     http_client\u001b[39m.\u001b[39mcookies \u001b[39m=\u001b[39m \u001b[39mcls\u001b[39m\u001b[39m.\u001b[39m_load_cookies(cookies, video_id)\n\u001b[0;32m     70\u001b[0m http_client\u001b[39m.\u001b[39mproxies \u001b[39m=\u001b[39m proxies \u001b[39mif\u001b[39;00m proxies \u001b[39melse\u001b[39;00m {}\n\u001b[1;32m---> 71\u001b[0m \u001b[39mreturn\u001b[39;00m TranscriptListFetcher(http_client)\u001b[39m.\u001b[39;49mfetch(video_id)\n",
      "File \u001b[1;32mc:\\Users\\hh\\AppData\\Local\\Programs\\Python\\Python311\\Lib\\site-packages\\youtube_transcript_api\\_transcripts.py:48\u001b[0m, in \u001b[0;36mTranscriptListFetcher.fetch\u001b[1;34m(self, video_id)\u001b[0m\n\u001b[0;32m     44\u001b[0m \u001b[39mdef\u001b[39;00m \u001b[39mfetch\u001b[39m(\u001b[39mself\u001b[39m, video_id):\n\u001b[0;32m     45\u001b[0m     \u001b[39mreturn\u001b[39;00m TranscriptList\u001b[39m.\u001b[39mbuild(\n\u001b[0;32m     46\u001b[0m         \u001b[39mself\u001b[39m\u001b[39m.\u001b[39m_http_client,\n\u001b[0;32m     47\u001b[0m         video_id,\n\u001b[1;32m---> 48\u001b[0m         \u001b[39mself\u001b[39m\u001b[39m.\u001b[39m_extract_captions_json(\u001b[39mself\u001b[39;49m\u001b[39m.\u001b[39;49m_fetch_video_html(video_id), video_id),\n\u001b[0;32m     49\u001b[0m     )\n",
      "File \u001b[1;32mc:\\Users\\hh\\AppData\\Local\\Programs\\Python\\Python311\\Lib\\site-packages\\youtube_transcript_api\\_transcripts.py:82\u001b[0m, in \u001b[0;36mTranscriptListFetcher._fetch_video_html\u001b[1;34m(self, video_id)\u001b[0m\n\u001b[0;32m     81\u001b[0m \u001b[39mdef\u001b[39;00m \u001b[39m_fetch_video_html\u001b[39m(\u001b[39mself\u001b[39m, video_id):\n\u001b[1;32m---> 82\u001b[0m     html \u001b[39m=\u001b[39m \u001b[39mself\u001b[39;49m\u001b[39m.\u001b[39;49m_fetch_html(video_id)\n\u001b[0;32m     83\u001b[0m     \u001b[39mif\u001b[39;00m \u001b[39m'\u001b[39m\u001b[39maction=\u001b[39m\u001b[39m\"\u001b[39m\u001b[39mhttps://consent.youtube.com/s\u001b[39m\u001b[39m\"\u001b[39m\u001b[39m'\u001b[39m \u001b[39min\u001b[39;00m html:\n\u001b[0;32m     84\u001b[0m         \u001b[39mself\u001b[39m\u001b[39m.\u001b[39m_create_consent_cookie(html, video_id)\n",
      "File \u001b[1;32mc:\\Users\\hh\\AppData\\Local\\Programs\\Python\\Python311\\Lib\\site-packages\\youtube_transcript_api\\_transcripts.py:92\u001b[0m, in \u001b[0;36mTranscriptListFetcher._fetch_html\u001b[1;34m(self, video_id)\u001b[0m\n\u001b[0;32m     90\u001b[0m \u001b[39mdef\u001b[39;00m \u001b[39m_fetch_html\u001b[39m(\u001b[39mself\u001b[39m, video_id):\n\u001b[0;32m     91\u001b[0m     response \u001b[39m=\u001b[39m \u001b[39mself\u001b[39m\u001b[39m.\u001b[39m_http_client\u001b[39m.\u001b[39mget(WATCH_URL\u001b[39m.\u001b[39mformat(video_id\u001b[39m=\u001b[39mvideo_id), headers\u001b[39m=\u001b[39m{\u001b[39m'\u001b[39m\u001b[39mAccept-Language\u001b[39m\u001b[39m'\u001b[39m: \u001b[39m'\u001b[39m\u001b[39men-US\u001b[39m\u001b[39m'\u001b[39m})\n\u001b[1;32m---> 92\u001b[0m     \u001b[39mreturn\u001b[39;00m unescape(_raise_http_errors(response, video_id)\u001b[39m.\u001b[39mtext)\n",
      "File \u001b[1;32mc:\\Users\\hh\\AppData\\Local\\Programs\\Python\\Python311\\Lib\\site-packages\\youtube_transcript_api\\_transcripts.py:37\u001b[0m, in \u001b[0;36m_raise_http_errors\u001b[1;34m(response, video_id)\u001b[0m\n\u001b[0;32m     35\u001b[0m     \u001b[39mreturn\u001b[39;00m response\n\u001b[0;32m     36\u001b[0m \u001b[39mexcept\u001b[39;00m HTTPError \u001b[39mas\u001b[39;00m error:\n\u001b[1;32m---> 37\u001b[0m     \u001b[39mraise\u001b[39;00m YouTubeRequestFailed(error, video_id)\n",
      "\u001b[1;31mYouTubeRequestFailed\u001b[0m: \nCould not retrieve a transcript for the video https://www.youtube.com/watch?v=429 Client Error: Too Many Requests for url: https://www.google.com/sorry/index?continue=https://www.youtube.com/watch%3Fv%3DZBU0lbMdvSo&q=EgQtTdHWGP7okqcGIjAz5JEsc6E4G1YceDFsuvigBlqOqdjKvtl_v8HMNabMXQTl8liligofuH8ORZLXALQyAXJaAUM! This is most likely caused by:\n\nRequest to YouTube failed: ZBU0lbMdvSo\n\nIf you are sure that the described cause is not responsible for this error and that a transcript should be retrievable, please create an issue at https://github.com/jdepoix/youtube-transcript-api/issues. Please add which version of youtube_transcript_api you are using and provide the information needed to replicate the error. Also make sure that there are no open issues which already describe your problem!"
     ]
    }
   ],
   "source": [
    "# ZBU0lbMdvSo\n",
    "transcript = YouTubeTranscriptApi.get_transcript(\"ZBU0lbMdvSo\")\n",
    "formatter = TextFormatter()\n",
    "text_formatted = formatter.format_transcript(transcript)\n",
    "with open('transcript.txt','w',encoding='utf-8') as text_file:\n",
    "    text_file.write(text_formatted)\n"
   ]
  },
  {
   "cell_type": "code",
   "execution_count": null,
   "metadata": {},
   "outputs": [],
   "source": [
    "%cat transcript.txt"
   ]
  },
  {
   "cell_type": "code",
   "execution_count": null,
   "metadata": {},
   "outputs": [],
   "source": [
    "# can follow 03 step below\n",
    "# from langchain.text_splitter import RecursiveCharacterTextSplitter\n",
    "#text_splitter = RecursiveCharacterTextSplitter(chunk_size=2000,chunk_overlap=10)\n",
    "#split_docs=text_splitter.split_documents(docs)\n",
    "#...."
   ]
  }
 ],
 "metadata": {
  "kernelspec": {
   "display_name": "Python 3",
   "language": "python",
   "name": "python3"
  },
  "language_info": {
   "codemirror_mode": {
    "name": "ipython",
    "version": 3
   },
   "file_extension": ".py",
   "mimetype": "text/x-python",
   "name": "python",
   "nbconvert_exporter": "python",
   "pygments_lexer": "ipython3",
   "version": "3.11.4"
  },
  "orig_nbformat": 4
 },
 "nbformat": 4,
 "nbformat_minor": 2
}

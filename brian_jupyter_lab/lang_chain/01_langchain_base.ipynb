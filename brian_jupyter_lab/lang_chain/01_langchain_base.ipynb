{
 "cells": [
  {
   "cell_type": "code",
   "execution_count": 3,
   "metadata": {},
   "outputs": [
    {
     "name": "stdout",
     "output_type": "stream",
     "text": [
      "Requirement already satisfied: mypy-extensions>=0.3.0 in c:\\users\\hh\\appdata\\local\\programs\\python\\python311\\lib\\site-packages (from typing-inspect<1,>=0.4.0->dataclasses-json<0.6.0,>=0.5.7->langchain==0.0.270) (1.0.0)\n"
     ]
    }
   ],
   "source": [
    "## 安装langchain和openai\n",
    "%pip install langchain==0.0.270 openai"
   ]
  },
  {
   "cell_type": "code",
   "execution_count": 4,
   "metadata": {},
   "outputs": [
    {
     "name": "stderr",
     "output_type": "stream",
     "text": []
    }
   ],
   "source": [
    "## 引入langchain相关的依赖\n",
    "## load_dotenv 加载环境变量 即当前文件夹下的.env\n",
    "## 可以添加配置OPENAI_API_KEY=\"sk-xxx\"\n",
    "\n",
    "from langchain.chat_models import ChatOpenAI\n",
    "from langchain.chains import ConversationChain\n",
    "from langchain.memory import ConversationBufferMemory\n",
    "from dotenv import load_dotenv\n",
    "import os\n",
    "\n",
    "os.environ.clear()\n",
    "## 加载环境变量\n",
    "load_dotenv()\n",
    "\n",
    "llm = ChatOpenAI(temperature=0,openai_api_key=os.environ.get('OPENAI_API_KEY'), model_name=\"gpt-3.5-turbo\")\n",
    "\n",
    "## verbose=True会答应类似debug信息\n",
    "conversation = ConversationChain(\n",
    "    llm=llm, verbose=True, memory=ConversationBufferMemory()\n",
    ")"
   ]
  },
  {
   "cell_type": "code",
   "execution_count": 5,
   "metadata": {},
   "outputs": [
    {
     "name": "stdout",
     "output_type": "stream",
     "text": [
      "The following is a friendly conversation between a human and an AI. The AI is talkative and provides lots of specific details from its context. If the AI does not know the answer to a question, it truthfully says it does not know.\n",
      "\n",
      "Current conversation:\n",
      "{history}\n",
      "Human: {input}\n",
      "AI:\n"
     ]
    }
   ],
   "source": [
    "## 打印下默认的prompt模板信息\n",
    "print(conversation.prompt.template)"
   ]
  },
  {
   "cell_type": "code",
   "execution_count": 6,
   "metadata": {},
   "outputs": [],
   "source": [
    "## 定义一个方法通过langchian的get_openai_callback 在问答的时候打印token的消耗清空\n",
    "\n",
    "from langchain.callbacks import get_openai_callback\n",
    "def track_tokens_usage(chain, query):\n",
    "    with get_openai_callback() as cb:\n",
    "        result = chain.run(query)\n",
    "        print(f\"prompt token {cb.prompt_tokens}, res token {cb.completion_tokens}, total token {cb.total_tokens}\")\n",
    "        print(f\"successful requests {cb.successful_requests}, total cost {cb.total_cost}USD\")\n",
    "    return result"
   ]
  },
  {
   "cell_type": "code",
   "execution_count": 7,
   "metadata": {},
   "outputs": [
    {
     "name": "stdout",
     "output_type": "stream",
     "text": [
      "\n",
      "\n",
      "\u001b[1m> Entering new ConversationChain chain...\u001b[0m\n",
      "Prompt after formatting:\n",
      "\u001b[32;1m\u001b[1;3mThe following is a friendly conversation between a human and an AI. The AI is talkative and provides lots of specific details from its context. If the AI does not know the answer to a question, it truthfully says it does not know.\n",
      "\n",
      "Current conversation:\n",
      "\n",
      "Human: 帮我做下langchain和Semantic Kernel的竞品分析\n",
      "AI:\u001b[0m\n",
      "\n",
      "\u001b[1m> Finished chain.\u001b[0m\n",
      "prompt token 82, res token 379, total token 461\n",
      "successful requests 1, total cost 0.0008810000000000001USD\n"
     ]
    },
    {
     "data": {
      "text/plain": [
       "'当然可以帮你做竞品分析！Langchain是一种基于区块链技术的语言学习平台，它提供了在线学习课程、语言交流社区和个性化学习推荐等功能。它的优势在于使用区块链技术确保学习记录的透明性和安全性，同时还提供了智能化的学习推荐系统，帮助用户更高效地学习语言。\\n\\nSemantic Kernel是一个自然语言处理工具，它使用语义分析和机器学习算法来理解和处理文本数据。它可以用于文本分类、情感分析、实体识别等任务。它的优势在于准确性和灵活性，可以适应不同领域和语言的文本处理需求。\\n\\n在竞品分析中，我们可以比较这两个产品在功能、性能、用户体验等方面的差异和优势。我们可以研究它们的市场份额、用户评价、竞争对手等信息，以及它们的定价策略、营销活动等方面的比较。这样可以帮助你了解它们在市场上的竞争状况，为你的决策提供参考。\\n\\n请问你还有其他关于这两个产品的问题吗？'"
      ]
     },
     "execution_count": 7,
     "metadata": {},
     "output_type": "execute_result"
    }
   ],
   "source": [
    "##我们的第一个问答\n",
    "track_tokens_usage(conversation, \"帮我做下langchain和Semantic Kernel的竞品分析\")"
   ]
  }
 ],
 "metadata": {
  "kernelspec": {
   "display_name": "Python 3",
   "language": "python",
   "name": "python3"
  },
  "language_info": {
   "codemirror_mode": {
    "name": "ipython",
    "version": 3
   },
   "file_extension": ".py",
   "mimetype": "text/x-python",
   "name": "python",
   "nbconvert_exporter": "python",
   "pygments_lexer": "ipython3",
   "version": "3.11.4"
  },
  "orig_nbformat": 4
 },
 "nbformat": 4,
 "nbformat_minor": 2
}

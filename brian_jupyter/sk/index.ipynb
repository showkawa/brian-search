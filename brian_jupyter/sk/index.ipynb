{
 "cells": [
  {
   "cell_type": "code",
   "execution_count": 2,
   "metadata": {},
   "outputs": [],
   "source": [
    "#%pip install semantic-kernel"
   ]
  },
  {
   "cell_type": "code",
   "execution_count": 18,
   "metadata": {},
   "outputs": [
    {
     "data": {
      "text/plain": [
       "<semantic_kernel.kernel.Kernel at 0x1edfcf777d0>"
      ]
     },
     "execution_count": 18,
     "metadata": {},
     "output_type": "execute_result"
    }
   ],
   "source": [
    "import semantic_kernel as sk\n",
    "from semantic_kernel.connectors.ai.open_ai import OpenAIChatCompletion\n",
    "import os\n",
    "\n",
    "# 加载 .env 到环境变量\n",
    "from dotenv import load_dotenv\n",
    "load_dotenv()\n",
    "\n",
    "# 创建 semantic_kernel\n",
    "kernel = sk.Kernel()\n",
    "\n",
    "# 配置OpenAI服务\n",
    "api_key = os.getenv(\"OPENAI_A_API_KEY\")\n",
    "endpoint = os.getenv(\"OPENAI_A_API_BASE\")\n",
    "model = OpenAIChatCompletion(model_id=\"gpt-3.5-turbo\",api_key=api_key,endpoint=endpoint)\n",
    "\n",
    "# 把 LLM 服务加入 kernel\n",
    "# 可以加多个。第一个加入的会被默认使用，非默认的要被指定使用\n",
    "kernel.add_text_completion_service(\"brian-gpt\", model)"
   ]
  },
  {
   "cell_type": "code",
   "execution_count": 19,
   "metadata": {},
   "outputs": [
    {
     "name": "stdout",
     "output_type": "stream",
     "text": [
      "wechat-gptbot是一个基于GPT模型的微信聊天机器人项目。该项目的目的是构建一个能够实现智能对话和自动回复的聊天机器人。该机器人能够根据用户的输入信息生成相应的回复，并具备一定的语义理解和语义生成能力。\n",
      "\n",
      "这个项目的架构设计通常包括以下几个组件：\n",
      "\n",
      "1. 数据处理：该项目使用了预训练的GPT模型进行对话生成，因此需要对原始数据进行预处理和清洗，以便用于模型训练。\n",
      "2. 模型训练：使用预处理的数据对GPT模型进行训练，该模型能够根据给定的上下文生成连贯的自然语言回复。\n",
      "3. 微信接口：该项目需要与微信的API进行集成，通过微信接收用户的输入消息，并将生成的回复通过微信接口\n"
     ]
    }
   ],
   "source": [
    "# 定义 semantic function\n",
    "github_expert=kernel.create_semantic_function(\"\"\"你是github开源仓库，你对在你仓库的所有项目都了如执掌，你熟悉每一个项目的细节，这个项目是做什么的，\n",
    "                                他的架构设计是怎么样的，它的工作原理等,总之你知道这样项目的一切\n",
    "                                \n",
    "                                现在你需要回答用户的任何关于在github上的项目的问题，用户的问题是{{$input}}\n",
    "                                \"\"\")\n",
    "\n",
    "print(github_expert(\"github中的开源项目wechat-gptbot是做什么的？\"))"
   ]
  }
 ],
 "metadata": {
  "kernelspec": {
   "display_name": ".venv",
   "language": "python",
   "name": "python3"
  },
  "language_info": {
   "codemirror_mode": {
    "name": "ipython",
    "version": 3
   },
   "file_extension": ".py",
   "mimetype": "text/x-python",
   "name": "python",
   "nbconvert_exporter": "python",
   "pygments_lexer": "ipython3",
   "version": "3.11.4"
  }
 },
 "nbformat": 4,
 "nbformat_minor": 2
}

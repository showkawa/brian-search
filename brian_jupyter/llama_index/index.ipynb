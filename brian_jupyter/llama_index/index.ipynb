{
 "cells": [
  {
   "cell_type": "code",
   "execution_count": 5,
   "metadata": {},
   "outputs": [],
   "source": [
    "#%pip install llama-index llama-hub"
   ]
  },
  {
   "cell_type": "code",
   "execution_count": 8,
   "metadata": {},
   "outputs": [],
   "source": [
    "from llama_hub.tools.bing_search.base import BingSearchToolSpec\n",
    "from llama_index.agent import OpenAIAgent\n",
    "from langchain.chat_models import ChatOpenAI\n",
    "from dotenv import load_dotenv\n",
    "load_dotenv()\n",
    "import os\n",
    "\n",
    "openai_api_key = os.getenv(\"OPENAI_API_KEY\")\n",
    "model_name=\"gpt-3.5-turbo-0613\"\n",
    "temperature=0.01\n",
    "llm =ChatOpenAI(model_name=model_name,openai_api_key=openai_api_key,temperature=temperature)\n"
   ]
  },
  {
   "cell_type": "code",
   "execution_count": 10,
   "metadata": {},
   "outputs": [
    {
     "ename": "ValueError",
     "evalue": "llm must be a OpenAI instance",
     "output_type": "error",
     "traceback": [
      "\u001b[1;31m---------------------------------------------------------------------------\u001b[0m",
      "\u001b[1;31mValueError\u001b[0m                                Traceback (most recent call last)",
      "\u001b[1;32mc:\\Users\\hh\\Desktop\\brian\\code\\brain-search\\brian_jupyter\\llama_index\\index.ipynb Cell 3\u001b[0m line \u001b[0;36m2\n\u001b[0;32m      <a href='vscode-notebook-cell:/c%3A/Users/hh/Desktop/brian/code/brain-search/brian_jupyter/llama_index/index.ipynb#W2sZmlsZQ%3D%3D?line=0'>1</a>\u001b[0m tool_spec \u001b[39m=\u001b[39m BingSearchToolSpec(api_key\u001b[39m=\u001b[39m\u001b[39m'\u001b[39m\u001b[39mWvT9Yo4AQHnS7tdCTePQRgRjhHvGOwMJZVjBbMMPSAI\u001b[39m\u001b[39m'\u001b[39m)\n\u001b[1;32m----> <a href='vscode-notebook-cell:/c%3A/Users/hh/Desktop/brian/code/brain-search/brian_jupyter/llama_index/index.ipynb#W2sZmlsZQ%3D%3D?line=1'>2</a>\u001b[0m agent \u001b[39m=\u001b[39m OpenAIAgent\u001b[39m.\u001b[39;49mfrom_tools(tool_spec\u001b[39m.\u001b[39;49mto_tool_list(),llm\u001b[39m=\u001b[39;49mllm)\n\u001b[0;32m      <a href='vscode-notebook-cell:/c%3A/Users/hh/Desktop/brian/code/brain-search/brian_jupyter/llama_index/index.ipynb#W2sZmlsZQ%3D%3D?line=2'>3</a>\u001b[0m agent\u001b[39m.\u001b[39mchat(\u001b[39m'\u001b[39m\u001b[39mwhat does lk-99 look like\u001b[39m\u001b[39m'\u001b[39m)\n",
      "File \u001b[1;32mc:\\Users\\hh\\Desktop\\brian\\code\\brain-search\\.venv\\Lib\\site-packages\\llama_index\\agent\\openai_agent.py:485\u001b[0m, in \u001b[0;36mOpenAIAgent.from_tools\u001b[1;34m(cls, tools, tool_retriever, llm, chat_history, memory, memory_cls, verbose, max_function_calls, callback_manager, system_prompt, prefix_messages, **kwargs)\u001b[0m\n\u001b[0;32m    483\u001b[0m llm \u001b[39m=\u001b[39m llm \u001b[39mor\u001b[39;00m OpenAI(model\u001b[39m=\u001b[39mDEFAULT_MODEL_NAME)\n\u001b[0;32m    484\u001b[0m \u001b[39mif\u001b[39;00m \u001b[39mnot\u001b[39;00m \u001b[39misinstance\u001b[39m(llm, OpenAI):\n\u001b[1;32m--> 485\u001b[0m     \u001b[39mraise\u001b[39;00m \u001b[39mValueError\u001b[39;00m(\u001b[39m\"\u001b[39m\u001b[39mllm must be a OpenAI instance\u001b[39m\u001b[39m\"\u001b[39m)\n\u001b[0;32m    487\u001b[0m \u001b[39mif\u001b[39;00m callback_manager \u001b[39mis\u001b[39;00m \u001b[39mnot\u001b[39;00m \u001b[39mNone\u001b[39;00m:\n\u001b[0;32m    488\u001b[0m     llm\u001b[39m.\u001b[39mcallback_manager \u001b[39m=\u001b[39m callback_manager\n",
      "\u001b[1;31mValueError\u001b[0m: llm must be a OpenAI instance"
     ]
    }
   ],
   "source": [
    "tool_spec = BingSearchToolSpec(api_key='WvT9Yo4AQHnS7tdCTePQRgRjhHvGOwMJZVjBbMMPSAI')\n",
    "agent = OpenAIAgent.from_tools(tool_spec.to_tool_list(),llm=llm)\n",
    "agent.chat('what does lk-99 look like')"
   ]
  }
 ],
 "metadata": {
  "kernelspec": {
   "display_name": ".venv",
   "language": "python",
   "name": "python3"
  },
  "language_info": {
   "codemirror_mode": {
    "name": "ipython",
    "version": 3
   },
   "file_extension": ".py",
   "mimetype": "text/x-python",
   "name": "python",
   "nbconvert_exporter": "python",
   "pygments_lexer": "ipython3",
   "version": "3.11.4"
  }
 },
 "nbformat": 4,
 "nbformat_minor": 2
}

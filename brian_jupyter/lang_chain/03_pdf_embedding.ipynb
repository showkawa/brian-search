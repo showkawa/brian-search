{
 "cells": [
  {
   "cell_type": "markdown",
   "metadata": {},
   "source": [
    "##### chat with PDF use HuggingFaceEmbeddings"
   ]
  },
  {
   "cell_type": "code",
   "execution_count": 2,
   "metadata": {},
   "outputs": [
    {
     "name": "stdout",
     "output_type": "stream",
     "text": [
      "Name: langchain\n",
      "Version: 0.0.292\n",
      "Summary: Building applications with LLMs through composability\n",
      "Home-page: https://github.com/langchain-ai/langchain\n",
      "Author: \n",
      "Author-email: \n",
      "License: MIT\n",
      "Location: c:\\Users\\hh\\AppData\\Local\\Programs\\Python\\Python311\\Lib\\site-packages\n",
      "Requires: aiohttp, dataclasses-json, langsmith, numexpr, numpy, pydantic, PyYAML, requests, SQLAlchemy, tenacity\n",
      "Required-by: \n",
      "Note: you may need to restart the kernel to use updated packages.\n"
     ]
    }
   ],
   "source": [
    "#from IPython.display import clear_output\n",
    "#clear_output()\n",
    "\n",
    "#%pip list\n",
    "\n",
    "#%pip install openai langchain pypdf faiss-cpu deeplake sentence_transformers"
   ]
  },
  {
   "cell_type": "code",
   "execution_count": 6,
   "metadata": {},
   "outputs": [],
   "source": [
    "# load the pdf\n",
    "from langchain.document_loaders import PyPDFLoader\n",
    "import warnings\n",
    "warnings.filterwarnings(\"ignore\")\n",
    "\n",
    "loader = PyPDFLoader(\"./../../../../doc/momentjs.pdf\")\n",
    "pages = loader.load_and_split()"
   ]
  },
  {
   "cell_type": "code",
   "execution_count": 7,
   "metadata": {},
   "outputs": [
    {
     "name": "stdout",
     "output_type": "stream",
     "text": [
      "split documents number 11\n"
     ]
    }
   ],
   "source": [
    "# split the pdf file\n",
    "from langchain.text_splitter import RecursiveCharacterTextSplitter\n",
    "\n",
    "text_splitter = RecursiveCharacterTextSplitter(chunk_size=2000,chunk_overlap=20)\n",
    "split_docs=text_splitter.split_documents(pages)\n",
    "\n",
    "print(f\"split documents number {len(split_docs)}\")"
   ]
  },
  {
   "cell_type": "code",
   "execution_count": 8,
   "metadata": {},
   "outputs": [
    {
     "name": "stdout",
     "output_type": "stream",
     "text": [
      "Chapter 1: Getting started with momentjs\n",
      "Remarks\n",
      "This section provides an overview of what momentjs is, and why a developer might want to use it.\n",
      "It should also mention any large subjects within momentjs, and link out to the related topics. Since \n",
      "the Documentation for momentjs is new, you may need to create initial versions of those related \n",
      "topics.\n",
      "Examples\n",
      "Installation or Setup\n",
      "Moment is a javascript library that was designed to make working with dates and times less time-\n",
      "consuming and more intuitive.  \n",
      "You can easily start using this library by installing it in you web-app by using one of the following \n",
      "guides.\n",
      "Browser\n",
      "You can either download the JS file from the official website  or use cdnjs.com .\n",
      "With local JS file\n",
      "<script src=\"moment.js\"></script> \n",
      "<script> \n",
      "    moment().format(); \n",
      "</script>\n",
      "With CDN\n",
      "<script src=\"https://cdnjs.cloudflare.com/ajax/libs/moment.js/2.14.1/moment.min.js\"></script> \n",
      "<script> \n",
      "    moment().format(); \n",
      "</script>\n",
      "Node.js\n",
      "npm install moment\n",
      "Moment should be included inside the node_modules  directory, Then add it to your script\n",
      "https://riptutorial.com/ 2\n"
     ]
    }
   ],
   "source": [
    "# HuggingFaceEmbeddings and FAISS store the data\n",
    "from langchain.vectorstores import FAISS\n",
    "from langchain.embeddings import HuggingFaceEmbeddings\n",
    "\n",
    "embeddings = HuggingFaceEmbeddings()\n",
    "\n",
    "faiss_index = FAISS.from_documents(split_docs, embeddings)\n",
    "query=\"How to use momentjs get next Monday?\"\n",
    "\n",
    "retriever = faiss_index.as_retriever()\n",
    "docs = retriever.get_relevant_documents(query)\n",
    "\n",
    "print(docs[0].page_content)\n",
    "\n",
    "# for doc in docs:\n",
    "#     print(str(doc.metadata[\"page\"]) + \" <> \", doc.page_content)"
   ]
  },
  {
   "cell_type": "code",
   "execution_count": 9,
   "metadata": {},
   "outputs": [],
   "source": [
    "#chat with GPT base on the PDF data\n",
    "from langchain.prompts import ChatPromptTemplate\n",
    "from langchain.prompts.chat import SystemMessagePromptTemplate, HumanMessagePromptTemplate\n",
    "from langchain.chat_models import ChatOpenAI\n",
    "\n",
    "import os\n",
    "from dotenv import load_dotenv\n",
    "load_dotenv()\n",
    "api_key = os.environ[\"OPENAI_API_KEY\"]\n",
    "\n",
    "template = ChatPromptTemplate.from_messages(\n",
    "    [\n",
    "        SystemMessagePromptTemplate.from_template(\"你是问答机器人，你根据以下信息回答用户问题。\\n已知信息：\\n{information}\\n\\nBe brief, and do not make up information.\"),\n",
    "        HumanMessagePromptTemplate.from_template(\"{question}\"),\n",
    "    ]\n",
    ")\n",
    "llm=ChatOpenAI(temperature=0,openai_api_key=api_key, model_name=\"gpt-3.5-turbo\")"
   ]
  },
  {
   "cell_type": "code",
   "execution_count": 11,
   "metadata": {},
   "outputs": [
    {
     "name": "stdout",
     "output_type": "stream",
     "text": [
      "To get the next Monday using momentjs, you can use the `weekday()` and `add()` functions. Here's an example:\n",
      "\n",
      "```javascript\n",
      "var nextMonday = moment().weekday(8); // Set the current date to the next Monday\n",
      "nextMonday.format(); // Format the date as desired\n",
      "```\n",
      "\n",
      "This code sets the current date to the next Monday using the `weekday()` function with a parameter of 8 (Monday is represented by 1, so adding 7 to it gives us the next Monday). Then, you can format the date as desired using the `format()` function.\n"
     ]
    }
   ],
   "source": [
    "\n",
    "response=llm(template.format_messages(\n",
    "        information=docs[0].page_content,\n",
    "        question=query\n",
    "    ))\n",
    "\n",
    "print(response.content)"
   ]
  }
 ],
 "metadata": {
  "kernelspec": {
   "display_name": "Python 3",
   "language": "python",
   "name": "python3"
  },
  "language_info": {
   "codemirror_mode": {
    "name": "ipython",
    "version": 3
   },
   "file_extension": ".py",
   "mimetype": "text/x-python",
   "name": "python",
   "nbconvert_exporter": "python",
   "pygments_lexer": "ipython3",
   "version": "3.11.4"
  },
  "orig_nbformat": 4
 },
 "nbformat": 4,
 "nbformat_minor": 2
}
